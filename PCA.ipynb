{
  "nbformat": 4,
  "nbformat_minor": 0,
  "metadata": {
    "colab": {
      "name": "PCA.ipynb",
      "provenance": []
    },
    "kernelspec": {
      "name": "python3",
      "display_name": "Python 3"
    }
  },
  "cells": [
    {
      "cell_type": "code",
      "metadata": {
        "id": "kKHz1gRDJ3nq",
        "colab_type": "code",
        "colab": {}
      },
      "source": [
        "import numpy as np"
      ],
      "execution_count": 0,
      "outputs": []
    },
    {
      "cell_type": "code",
      "metadata": {
        "id": "qWCMPkF2KLNY",
        "colab_type": "code",
        "colab": {}
      },
      "source": [
        "class PCA:\n",
        "  def __init__(self, n_components):\n",
        "    self.n_components = n_components\n",
        "    self.components = None\n",
        "    self.mean = None\n",
        "\n",
        "  def fit(self, X):\n",
        "    #mean\n",
        "    self.mean = np.mean(X, axis=0)\n",
        "    #1 row = sample, columns = features\n",
        "    X = X - self.mean\n",
        "\n",
        "    #covariance\n",
        "    #but in documentation 1row = features, columns=samples for cov ...so we transpose our data\n",
        "    cov = np.cov(X.T)\n",
        "\n",
        "    #eigenvectors, eigenvalues\n",
        "    eigenvalues, eigenvectors = np.linalg.eig(cov)\n",
        "\n",
        "    #v[:, i]\n",
        "    #sort eigenvectors\n",
        "    eigenvectors = eigenvectors.T\n",
        "    idxs = np.argsort(eigenvalues)[::-1]\n",
        "    \n",
        "    eigenvalues = eigenvalues[idxs]\n",
        "    eigenvectors = eigenvectors[idxs]\n",
        "\n",
        "    #store first n eigenvectors\n",
        "    self.components = eigenvectors[0:self.n_components]\n",
        "\n",
        "  def transform(self, X):\n",
        "    #project data\n",
        "    X = X - self.mean\n",
        "    return(np.dot(X, self.components.T))"
      ],
      "execution_count": 0,
      "outputs": []
    },
    {
      "cell_type": "markdown",
      "metadata": {
        "id": "zxHJSpaMdsaR",
        "colab_type": "text"
      },
      "source": [
        "PCA TEST"
      ]
    },
    {
      "cell_type": "code",
      "metadata": {
        "id": "IcK21QQVdqu7",
        "colab_type": "code",
        "colab": {}
      },
      "source": [
        "from sklearn import datasets\n",
        "import matplotlib.pyplot as plt"
      ],
      "execution_count": 0,
      "outputs": []
    },
    {
      "cell_type": "code",
      "metadata": {
        "id": "KQYcFJhvd1Dc",
        "colab_type": "code",
        "colab": {}
      },
      "source": [
        "data = datasets.load_iris()\n",
        "X = data.data\n",
        "y = data.target"
      ],
      "execution_count": 0,
      "outputs": []
    },
    {
      "cell_type": "code",
      "metadata": {
        "id": "w5BW2Ar0eBOn",
        "colab_type": "code",
        "colab": {}
      },
      "source": [
        "#project data onto the 2 primary principal components\n",
        "pca = PCA(2)\n",
        "pca.fit(X)\n",
        "X_projected = pca.transform(X)"
      ],
      "execution_count": 0,
      "outputs": []
    },
    {
      "cell_type": "code",
      "metadata": {
        "id": "f8kOjLhfeXR5",
        "colab_type": "code",
        "outputId": "60c94628-f077-48be-da8d-a999b350b15c",
        "colab": {
          "base_uri": "https://localhost:8080/",
          "height": 52
        }
      },
      "source": [
        "print('Shape of X: ',X.shape)\n",
        "print('Shape of transormed X: ', X_projected.shape)"
      ],
      "execution_count": 0,
      "outputs": [
        {
          "output_type": "stream",
          "text": [
            "Shape of X:  (150, 4)\n",
            "Shape of transormed X:  (150, 2)\n"
          ],
          "name": "stdout"
        }
      ]
    },
    {
      "cell_type": "code",
      "metadata": {
        "id": "zbnsjcC9e38H",
        "colab_type": "code",
        "colab": {}
      },
      "source": [
        "x1 = X_projected[:,0]\n",
        "x2 = X_projected[:,1]"
      ],
      "execution_count": 0,
      "outputs": []
    },
    {
      "cell_type": "code",
      "metadata": {
        "id": "d9QkaHy3fEjf",
        "colab_type": "code",
        "outputId": "6aa02346-0035-40c3-b9da-6259a2a07c4f",
        "colab": {
          "base_uri": "https://localhost:8080/",
          "height": 283
        }
      },
      "source": [
        "plt.scatter(x1,x2,c=y,edgecolor='none',alpha=0.8,cmap=plt.cm.get_cmap('viridis',3))\n",
        "plt.xlabel('Principal Component 1')\n",
        "plt.ylabel('Principal Component 2')\n",
        "plt.colorbar()\n",
        "plt.show()"
      ],
      "execution_count": 0,
      "outputs": [
        {
          "output_type": "display_data",
          "data": {
            "image/png": "[encoded data removed]",
            "text/plain": [
              "<Figure size 432x288 with 2 Axes>"
            ]
          },
          "metadata": {
            "tags": []
          }
        }
      ]
    },
    {
      "cell_type": "code",
      "metadata": {
        "id": "YgkX8jesf2_M",
        "colab_type": "code",
        "colab": {}
      },
      "source": [
        ""
      ],
      "execution_count": 0,
      "outputs": []
    }
  ]
}