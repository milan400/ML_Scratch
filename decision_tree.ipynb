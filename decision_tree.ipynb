{
  "nbformat": 4,
  "nbformat_minor": 0,
  "metadata": {
    "colab": {
      "name": "decision_tree.ipynb",
      "provenance": []
    },
    "kernelspec": {
      "name": "python3",
      "display_name": "Python 3"
    },
    "accelerator": "GPU"
  },
  "cells": [
    {
      "cell_type": "code",
      "metadata": {
        "id": "yQc9WEhQyrEB",
        "colab_type": "code",
        "colab": {}
      },
      "source": [
        "import numpy as np\n",
        "from collections import Counter"
      ],
      "execution_count": 0,
      "outputs": []
    },
    {
      "cell_type": "code",
      "metadata": {
        "id": "onEoCRK_yyVo",
        "colab_type": "code",
        "colab": {}
      },
      "source": [
        "def entropy(y):\n",
        "  hist = np.bincount(y)\n",
        "  ps = hist/len(y)\n",
        "  return(-np.sum([p * np.log2(p) for p in ps if p>0]))"
      ],
      "execution_count": 0,
      "outputs": []
    },
    {
      "cell_type": "code",
      "metadata": {
        "id": "xYZGHA2rzStG",
        "colab_type": "code",
        "colab": {}
      },
      "source": [
        "class Node:\n",
        "  def __init__(self, feature=None, threshold=None, left=None, right=None,*,value=None):\n",
        "    self.feature = feature\n",
        "    self.threshold = threshold\n",
        "    self.left = left\n",
        "    self.right = right\n",
        "    self.value = value\n",
        "  \n",
        "  def is_leaf_node(self):\n",
        "    return(self.value is not None)"
      ],
      "execution_count": 0,
      "outputs": []
    },
    {
      "cell_type": "code",
      "metadata": {
        "id": "_OAwPrVez6p_",
        "colab_type": "code",
        "colab": {}
      },
      "source": [
        "class DecisionTree:\n",
        "  def __init__(self, min_samples_split=2, max_depth=100, n_feats=None):\n",
        "    self.min_samples_split = min_samples_split\n",
        "    self.max_depth = max_depth\n",
        "    self.n_feats = n_feats\n",
        "    self.root = None\n",
        "\n",
        "  def fit(self, X, y):\n",
        "    self.n_feats = X.shape[1] if not self.n_feats else min(self.n_feats, X.shape[1])\n",
        "    self.root = self._grow_tree(X, y)\n",
        "\n",
        "  def _grow_tree(self, X, y, depth=0):\n",
        "    n_samples, n_features = X.shape\n",
        "    n_labels = len(np.unique(y))\n",
        "\n",
        "    #stopping criteria\n",
        "    if(depth >= self.max_depth or n_labels == 1 or n_samples < self.min_samples_split):\n",
        "      leaf_value = self._most_common_label(y)\n",
        "      return(Node(value=leaf_value))\n",
        "    \n",
        "    feat_idxs = np.random.choice(n_features, self.n_feats, replace=False)\n",
        "\n",
        "    #greedy search\n",
        "    best_feat, best_thresh = self._best_criteria(X, y, feat_idxs)\n",
        "\n",
        "    left_idxs, right_idxs = self._split(X[:,best_feat],best_thresh)\n",
        "\n",
        "    left = self._grow_tree(X[left_idxs,:], y[left_idxs], depth+1)\n",
        "    right = self._grow_tree(X[right_idxs,:], y[right_idxs], depth+1)\n",
        "    return(Node(best_feat, best_thresh, left, right))\n",
        "  \n",
        "\n",
        "  def _best_criteria(self, X, y, feat_idxs):\n",
        "    best_gain = -1\n",
        "    split_idx, split_thresh = None, None\n",
        "    for feat_idx in feat_idxs:\n",
        "      X_column = X[:, feat_idx]\n",
        "      thresholds = np.unique(X_column)\n",
        "      for threshold in thresholds:\n",
        "        gain = self._information_gain(y, X_column, threshold)\n",
        "        if(gain>best_gain):\n",
        "          best_gain = gain\n",
        "          split_idx = feat_idx\n",
        "          split_thresh = threshold\n",
        "    return(split_idx, split_thresh)\n",
        "\n",
        "  def _information_gain(self, y, X_column, split_threh):\n",
        "    #parent entropy\n",
        "    parent_entropy = entropy(y)\n",
        "\n",
        "    #generate split\n",
        "    left_idxs, right_idxs = self._split(X_column, split_threh)\n",
        "    if(len(left_idxs == 0) or len(right_idxs)==0):\n",
        "      return 0\n",
        "\n",
        "    #weighted avg vhild entropy\n",
        "    n = len(y)\n",
        "    n_l, n_r = len(left_idxs), len(right_idxs)\n",
        "    e_l, e_r = entropy(y[left_idxs]), entropy(y[right_idxs])\n",
        "    child_entropy = (n_l/n)*e_l + (n_r/n)*e_r\n",
        "\n",
        "    #return ig\n",
        "    ig = parent_entropy - child_entropy\n",
        "\n",
        "    return ig\n",
        "  \n",
        "  def _split(self, X_column, split_threh):\n",
        "    left_idxs = np.argwhere(X_column <= split_threh).flatten()\n",
        "    right_idxs = np.argwhere(X_column > split_threh).flatten()\n",
        "    return(left_idxs, right_idxs)\n",
        "  \n",
        "  def predict(self, X):\n",
        "    #traverse tree\n",
        "    return(np.array([self._traverse_tree(x, self.root) for x in X]))\n",
        "\n",
        "  def _traverse_tree(self, x, node):\n",
        "    if(node.is_leaf_node()):\n",
        "      return(node.value)\n",
        "\n",
        "    if(x[node.feature] <= node.threshold):\n",
        "      return(self._traverse_tree(x, node.left))\n",
        "    return(self._traverse_tree(x, node.right))\n",
        "\n",
        "  def _most_common_label(self, y):\n",
        "    counter = Counter(y)\n",
        "    most_common = counter.most_common(1)[0][0]\n",
        "    return(most_common)"
      ],
      "execution_count": 0,
      "outputs": []
    },
    {
      "cell_type": "markdown",
      "metadata": {
        "id": "JN8LL3ma4qaw",
        "colab_type": "text"
      },
      "source": [
        "decision tree test"
      ]
    },
    {
      "cell_type": "code",
      "metadata": {
        "id": "FQqM1Txil1L-",
        "colab_type": "code",
        "colab": {}
      },
      "source": [
        "from sklearn import datasets\n",
        "from sklearn.model_selection import train_test_split"
      ],
      "execution_count": 0,
      "outputs": []
    },
    {
      "cell_type": "code",
      "metadata": {
        "id": "rjB21ota44s7",
        "colab_type": "code",
        "colab": {}
      },
      "source": [
        "def accuracy(y_true, y_pred):\n",
        "  accuracy = np.sum(y_true == y_pred) / len(y_true)\n",
        "  return(accuracy)"
      ],
      "execution_count": 0,
      "outputs": []
    },
    {
      "cell_type": "code",
      "metadata": {
        "id": "1VWwJh435GFJ",
        "colab_type": "code",
        "colab": {}
      },
      "source": [
        "data = datasets.load_breast_cancer()\n",
        "X = data.data\n",
        "y = data.target"
      ],
      "execution_count": 0,
      "outputs": []
    },
    {
      "cell_type": "code",
      "metadata": {
        "id": "QMVuIfFG5QF5",
        "colab_type": "code",
        "colab": {}
      },
      "source": [
        "X_train, X_test, y_train, y_test = train_test_split(X, y, test_size=0.2, random_state = 42)"
      ],
      "execution_count": 0,
      "outputs": []
    },
    {
      "cell_type": "code",
      "metadata": {
        "id": "BG1FYYFL5cvl",
        "colab_type": "code",
        "colab": {}
      },
      "source": [
        "clf = DecisionTree(max_depth=20)\n",
        "clf.fit(X_train, y_train)"
      ],
      "execution_count": 0,
      "outputs": []
    },
    {
      "cell_type": "code",
      "metadata": {
        "id": "TlhBxTsr5yeq",
        "colab_type": "code",
        "outputId": "be505c1c-540d-41b8-f809-9b2fa21e8216",
        "colab": {
          "base_uri": "https://localhost:8080/",
          "height": 34
        }
      },
      "source": [
        "y_pred = clf.predict(X_test)\n",
        "acc = accuracy(y_test, y_pred)\n",
        "\n",
        "print(\"Accuracy: \",acc)"
      ],
      "execution_count": 0,
      "outputs": [
        {
          "output_type": "stream",
          "text": [
            "Accuracy:  0.6228070175438597\n"
          ],
          "name": "stdout"
        }
      ]
    },
    {
      "cell_type": "markdown",
      "metadata": {
        "id": "AWhOEW5LfCe5",
        "colab_type": "text"
      },
      "source": [
        "Random Forest"
      ]
    },
    {
      "cell_type": "code",
      "metadata": {
        "id": "NMigA7WwDfim",
        "colab_type": "code",
        "colab": {}
      },
      "source": [
        "def bootstrap_sample(X, y):\n",
        "  n_samples = X.shape[0]\n",
        "  idxs = np.random.choice(n_samples, size = n_samples, replace=True)\n",
        "  return(X[idxs], y[idxs])\n",
        "\n",
        "def most_common_label(y):\n",
        "  counter = Counter(y)\n",
        "  most_common = counter.most_common(1)[0][0]\n",
        "  return(most_common)"
      ],
      "execution_count": 0,
      "outputs": []
    },
    {
      "cell_type": "code",
      "metadata": {
        "id": "0Eu57gEwfcDu",
        "colab_type": "code",
        "colab": {}
      },
      "source": [
        "class RandomForest:\n",
        "  def __init__(self, n_trees = 100, min_samples_split=2, max_depth=100, n_feats=None):\n",
        "    self.n_trees = n_trees\n",
        "    self.min_samples_split = min_samples_split\n",
        "    self.max_depth = max_depth\n",
        "    self.n_feats = n_feats\n",
        "    self.trees = []\n",
        "\n",
        "  def fit(self, X, y):\n",
        "    self.trees = []\n",
        "    for _ in range(self.n_trees):\n",
        "      tree = DecisionTree(min_samples_split = self.min_samples_split, max_depth=self.max_depth, n_feats=self.n_feats)\n",
        "      X_sample, y_sample = bootstrap_sample(X, y)\n",
        "      tree.fit(X_sample, y_sample)\n",
        "      self.trees.append(tree)\n",
        "  def predict(self, X):\n",
        "    tree_preds = np.array([tree.predict(X) for tree in self.trees])\n",
        "    tree_preds = np.swapaxes(tree_preds, 0, 1)\n",
        "\n",
        "    y_pred = [most_common_label(tree_pred) for tree_pred in tree_preds]\n",
        "    return np.array(y_pred)"
      ],
      "execution_count": 0,
      "outputs": []
    },
    {
      "cell_type": "code",
      "metadata": {
        "id": "dRzsIiDwjtjG",
        "colab_type": "code",
        "colab": {}
      },
      "source": [
        "clf_f = RandomForest(n_trees=3)\n",
        "clf_f.fit(X_train, y_train)"
      ],
      "execution_count": 0,
      "outputs": []
    },
    {
      "cell_type": "code",
      "metadata": {
        "id": "XmsOeAr7kFQB",
        "colab_type": "code",
        "outputId": "c16c172b-922c-4e07-d72e-fb999da3a0be",
        "colab": {
          "base_uri": "https://localhost:8080/",
          "height": 34
        }
      },
      "source": [
        "y_pred = clf_f.predict(X_test)\n",
        "acc = accuracy(y_test, y_pred)\n",
        "\n",
        "print(\"Accuracy: \",acc)"
      ],
      "execution_count": 0,
      "outputs": [
        {
          "output_type": "stream",
          "text": [
            "Accuracy:  0.6578947368421053\n"
          ],
          "name": "stdout"
        }
      ]
    },
    {
      "cell_type": "code",
      "metadata": {
        "id": "5hstHoZHlXXD",
        "colab_type": "code",
        "colab": {}
      },
      "source": [
        ""
      ],
      "execution_count": 0,
      "outputs": []
    }
  ]
}