{
 "cells": [
  {
   "cell_type": "code",
   "execution_count": 1,
   "metadata": {},
   "outputs": [],
   "source": [
    "import numpy as np"
   ]
  },
  {
   "cell_type": "code",
   "execution_count": 5,
   "metadata": {},
   "outputs": [],
   "source": [
    "class NeuralNetwork():\n",
    "    \n",
    "    def __init__(self):\n",
    "        np.random.seed(1)\n",
    "        self.synaptic_weights = 2*np.random.random((3,1)) - 1\n",
    "    \n",
    "    def sigmoid(self,x):\n",
    "        return(1/(1+np.exp(-x)))\n",
    "    \n",
    "    def sigmoid_derivative(self,x):\n",
    "        return(x/(1+x))\n",
    "    \n",
    "    def train(self,training_inputs, training_outputs,training_iterations):\n",
    "        for itr in range(training_iterations):\n",
    "            \n",
    "            output = self.think(training_inputs)\n",
    "            error = training_outputs - output\n",
    "            adjustments = np.dot(training_inputs.T,error*self.sigmoid_derivative(output))\n",
    "            self.synaptic_weights += adjustments\n",
    "    \n",
    "    def think(self,inputs):\n",
    "        inputs = inputs.astype(float)\n",
    "        output = self.sigmoid(np.dot(inputs,self.synaptic_weights))\n",
    "        return output\n",
    "    "
   ]
  },
  {
   "cell_type": "markdown",
   "metadata": {},
   "source": [
    "In short, use this ' if __name__ == \"main\" ' block to prevent (certain) code from being run when the module is imported. Put simply, __name__ is a variable defined for each script that defines whether the script is being run as the main module or it is being run as an imported module."
   ]
  },
  {
   "cell_type": "code",
   "execution_count": 10,
   "metadata": {},
   "outputs": [
    {
     "name": "stdout",
     "output_type": "stream",
     "text": [
      "Rnadom synaptic weights: \n",
      "[[-0.16595599]\n",
      " [ 0.44064899]\n",
      " [-0.99977125]]\n",
      "Synaptic weights after training: \n",
      "[[13.38883717]\n",
      " [-0.18998542]\n",
      " [-4.49621121]]\n",
      "Input 1: 7\n",
      "Input 2: 8\n",
      "Input 3: 9\n",
      "New situation: input data =  7 8 9\n",
      "Output data: \n",
      "[1.]\n"
     ]
    }
   ],
   "source": [
    "if(__name__ == \"__main__\"):\n",
    "    neural_network = NeuralNetwork()\n",
    "    \n",
    "    print(\"Rnadom synaptic weights: \")\n",
    "    print(neural_network.synaptic_weights)\n",
    "    \n",
    "    training_inputs = np.array([[0,0,1],\n",
    "                                [1,1,1],\n",
    "                                [1,0,1],\n",
    "                                [0,1,1]])\n",
    "    training_outputs = np.array([[0,1,1,0]]).T\n",
    "    \n",
    "    neural_network.train(training_inputs,training_outputs,10000)\n",
    "    \n",
    "    print(\"Synaptic weights after training: \")\n",
    "    print(neural_network.synaptic_weights)\n",
    "    \n",
    "    A = str(input('Input 1: '))\n",
    "    B = str(input('Input 2: '))\n",
    "    C = str(input('Input 3: '))\n",
    "    \n",
    "    print(\"New situation: input data = \", A, B, C)\n",
    "    print(\"Output data: \")\n",
    "    print(neural_network.think(np.array([A,B,C])))"
   ]
  },
  {
   "cell_type": "code",
   "execution_count": null,
   "metadata": {},
   "outputs": [],
   "source": []
  }
 ],
 "metadata": {
  "kernelspec": {
   "display_name": "Python 3",
   "language": "python",
   "name": "python3"
  },
  "language_info": {
   "codemirror_mode": {
    "name": "ipython",
    "version": 3
   },
   "file_extension": ".py",
   "mimetype": "text/x-python",
   "name": "python",
   "nbconvert_exporter": "python",
   "pygments_lexer": "ipython3",
   "version": "3.7.4"
  }
 },
 "nbformat": 4,
 "nbformat_minor": 2
}
