{
 "cells": [
  {
   "cell_type": "code",
   "execution_count": 1,
   "metadata": {
    "_cell_guid": "b1076dfc-b9ad-4769-8c92-a6c4dae69d19",
    "_uuid": "8f2839f25d086af736a60e9eeb907d3b93b6e0e5"
   },
   "outputs": [],
   "source": [
    "from collections import defaultdict"
   ]
  },
  {
   "cell_type": "code",
   "execution_count": 2,
   "metadata": {
    "_cell_guid": "79c7e3d0-c299-4dcb-8224-4455121ee9b0",
    "_uuid": "d629ff2d2480ee46fbb7e2d37f6b5fab8052498a"
   },
   "outputs": [],
   "source": [
    "class Graph:\n",
    "    def __init__(self):\n",
    "        #default dictionary\n",
    "        self.graph = defaultdict(list)\n",
    "    #function to add an edge to graph\n",
    "    def addEdge(self,u,v):\n",
    "        self.graph[u].append(v)\n",
    "        \n",
    "    #function used by DFS\n",
    "    def DFSUtil(self,v,visited):\n",
    "        # Mark the current node as visited and print it\n",
    "        visited[v] = True\n",
    "        print(v,end=' ')\n",
    "        \n",
    "        # Recur for all the vertices\n",
    "        # adjacent to this vertex\n",
    "        for i in self.graph[v]:\n",
    "            if visited[i] == False:\n",
    "                self.DFSUtil(i,visited)\n",
    "                \n",
    "    # The function to do DFS traversal. It uses recursive DFSUtil()\n",
    "    def DFS(self,v):\n",
    "        # Mark all the vertices as not visited\n",
    "        visited = [False] * (len(self.graph))\n",
    "        \n",
    "        #call the recursive helper function to print DFS traversal\n",
    "        self.DFSUtil(v,visited)\n",
    "        \n",
    "                    "
   ]
  },
  {
   "cell_type": "code",
   "execution_count": 3,
   "metadata": {},
   "outputs": [
    {
     "name": "stdout",
     "output_type": "stream",
     "text": [
      "Following is Breadth First Traversal (starting from vertex 2)\n",
      "0 1 2 3 5 4 6 "
     ]
    }
   ],
   "source": [
    "# the above diagram \n",
    "g = Graph()\n",
    "g.addEdge(0,1)\n",
    "g.addEdge(0,2)\n",
    "\n",
    "g.addEdge(1,2)\n",
    "g.addEdge(1,4)\n",
    "\n",
    "g.addEdge(2,3)\n",
    "g.addEdge(3,5)\n",
    "\n",
    "g.addEdge(4,6)\n",
    "\n",
    "g.addEdge(5,5)\n",
    "g.addEdge(6,6)\n",
    "  \n",
    "print (\"Following is Breadth First Traversal\"\n",
    "                  \" (starting from vertex 2)\") \n",
    "g.DFS(0)"
   ]
  },
  {
   "cell_type": "code",
   "execution_count": null,
   "metadata": {},
   "outputs": [],
   "source": []
  }
 ],
 "metadata": {
  "kernelspec": {
   "display_name": "Python 3",
   "language": "python",
   "name": "python3"
  },
  "language_info": {
   "codemirror_mode": {
    "name": "ipython",
    "version": 3
   },
   "file_extension": ".py",
   "mimetype": "text/x-python",
   "name": "python",
   "nbconvert_exporter": "python",
   "pygments_lexer": "ipython3",
   "version": "3.6.6"
  }
 },
 "nbformat": 4,
 "nbformat_minor": 4
}
